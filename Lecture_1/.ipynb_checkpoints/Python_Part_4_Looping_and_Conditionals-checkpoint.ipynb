{
 "cells": [
  {
   "cell_type": "markdown",
   "metadata": {},
   "source": [
    "---\n",
    "\n",
    "# Python Part 4. Conditional Statements, Looping, and Comprehension \n",
    "\n",
    "\n",
    "## Part 4.a. Conditional Statements \n",
    "Conditional statements are fundamental building blocks to any serious program. The easiest way to understand this concept is by running the following code illustrating the ```if-else``` statement in the cell below:\n",
    "```python\n",
    "x = 10\n",
    "y = 4\n",
    "print(f\"x = {x}\")\n",
    "print(f\"y = {y}\")\n",
    "\n",
    "if x > y:\n",
    "    print(\"x is greater than y\")\n",
    "else:\n",
    "    print(\"x is less than y\")\n",
    "\n",
    "```\n",
    "\n",
    "**Note.** ```if (condition)``` and ```else (condition)``` are both proceeded by the colon symbol ```:```. This indicates to the Python interpreter that you are entering into a block of code. Each line of code in the respective block will be indented by 4 white spaces. \n",
    "\n",
    "---"
   ]
  },
  {
   "cell_type": "code",
   "execution_count": 1,
   "metadata": {},
   "outputs": [
    {
     "name": "stdout",
     "output_type": "stream",
     "text": [
      "x = 10\n",
      "y = 4\n",
      "x is greater than y\n"
     ]
    }
   ],
   "source": [
    "x = 10\n",
    "y = 4\n",
    "print(f\"x = {x}\")\n",
    "print(f\"y = {y}\")\n",
    "\n",
    "if x > y:\n",
    "    print(\"x is greater than y\")\n",
    "else:\n",
    "    print(\"x is less than y\")"
   ]
  },
  {
   "cell_type": "markdown",
   "metadata": {},
   "source": [
    "---\n",
    "\n",
    "Now try running the following code in the cell below (notice in this code we have ```y = 20```):\n",
    "```python\n",
    "x = 10\n",
    "y = 20\n",
    "print(f\"{x = }\") # Only works on Python 3.8 and higher\n",
    "print(f\"y = {y}\")\n",
    "\n",
    "if x > y:\n",
    "    print(\"x is greater than y\")\n",
    "else:\n",
    "    print(\"x is less than y\")\n",
    "\n",
    "```\n",
    "\n",
    "\n",
    "---"
   ]
  },
  {
   "cell_type": "code",
   "execution_count": 2,
   "metadata": {},
   "outputs": [
    {
     "name": "stdout",
     "output_type": "stream",
     "text": [
      "x = 10\n",
      "y = 20\n",
      "x is less than y\n"
     ]
    }
   ],
   "source": [
    "x = 10\n",
    "y = 20\n",
    "print(f\"{x = }\") # Only works on Python 3.8 and higher\n",
    "print(f\"y = {y}\")\n",
    "\n",
    "if x > y:\n",
    "    print(\"x is greater than y\")\n",
    "else:\n",
    "    print(\"x is less than y\")"
   ]
  },
  {
   "cell_type": "markdown",
   "metadata": {},
   "source": [
    "---\n",
    "\n",
    "As you can see, the print statement that is executed depends on the truth-value satisfied by either the ```if```-statement, or the ```else``` statement. \n",
    "\n",
    "\n",
    "When also considering the possibility when ```x == y``` (*Boolean equals*), we may adapt our ```if-else```-statment with a ```if-elif-else```-statement. For example, run the following in the cell below:\n",
    "```python\n",
    "x = 10\n",
    "y = 10\n",
    "print(f\"{x = }\")\n",
    "print(f\"y = {y}\")\n",
    "\n",
    "if x > y:\n",
    "    print(\"x is greater than y\")\n",
    "elif x == y:\n",
    "    print(\"x is equal to y\")\n",
    "else:\n",
    "    print(\"x is less than y\")\n",
    "\n",
    "```\n",
    "\n",
    "\n",
    "\n",
    "---"
   ]
  },
  {
   "cell_type": "code",
   "execution_count": 3,
   "metadata": {},
   "outputs": [
    {
     "name": "stdout",
     "output_type": "stream",
     "text": [
      "x = 10\n",
      "y = 10\n",
      "x is equal to y\n"
     ]
    }
   ],
   "source": [
    "x = 10\n",
    "y = 10\n",
    "print(f\"{x = }\")\n",
    "print(f\"y = {y}\")\n",
    "\n",
    "if x > y:\n",
    "    print(\"x is greater than y\")\n",
    "elif x == y:\n",
    "    print(\"x is equal to y\")\n",
    "else:\n",
    "    print(\"x is less than y\")"
   ]
  },
  {
   "cell_type": "markdown",
   "metadata": {},
   "source": [
    "---\n",
    "\n",
    "## Part 4.b. Looping\n",
    "\n",
    "Looping is an iterative process that comes in two flavors, namely the ```while```-loop and the ```for```-loop. First we consider the ```while```-loop. This type of loop executes a block of code until the ```while```-condition is broken by way of some Boolean comparison. To illustrate this concept run the following code in the cell below:\n",
    "```python\n",
    "i = 1\n",
    "max_iterations = 10\n",
    "while i < max_iterations:\n",
    "    print(f\"i = {i}\")\n",
    "    i += 1  # The += operator increments the variable i by 1 (adds 1)\n",
    "\n",
    "```\n",
    "\n",
    "\n",
    "\n",
    "---"
   ]
  },
  {
   "cell_type": "code",
   "execution_count": 4,
   "metadata": {},
   "outputs": [
    {
     "name": "stdout",
     "output_type": "stream",
     "text": [
      "i = 1\n",
      "i = 2\n",
      "i = 3\n",
      "i = 4\n",
      "i = 5\n",
      "i = 6\n",
      "i = 7\n",
      "i = 8\n",
      "i = 9\n"
     ]
    }
   ],
   "source": [
    "i = 1\n",
    "max_iterations = 10\n",
    "while i < max_iterations:\n",
    "    print(f\"i = {i}\")\n",
    "    i += 1  # The += operator increments the variable i by 1 (adds 1)"
   ]
  },
  {
   "cell_type": "markdown",
   "metadata": {},
   "source": [
    "---\n",
    "\n",
    "Next up we have ```for```-loops. This type of loop is typically used when searching through some type of iterable object such as a string, list, tuple, set, or a dictionary. A simple example would be to print all the names contained in some list as shown in the following code and which you should run in the cell below:\n",
    "```python\n",
    "names = [\"Randy\", \"Andrew\", \"Ben\", \"Chrisy\", \"Rusty\"]\n",
    "\n",
    "for name in names:\n",
    "    print(name)\n",
    "\n",
    "```\n",
    "\n",
    "\n",
    "\n",
    "---"
   ]
  },
  {
   "cell_type": "code",
   "execution_count": 5,
   "metadata": {},
   "outputs": [
    {
     "name": "stdout",
     "output_type": "stream",
     "text": [
      "Randy\n",
      "Andrew\n",
      "Ben\n",
      "Chrisy\n",
      "Rusty\n"
     ]
    }
   ],
   "source": [
    "names = [\"Randy\", \"Andrew\", \"Ben\", \"Chrisy\", \"Rusty\"]\n",
    "\n",
    "for name in names:\n",
    "    print(name)"
   ]
  },
  {
   "cell_type": "markdown",
   "metadata": {},
   "source": [
    "---\n",
    "\n",
    "In many data science related tasks you may not only want to loop through the elements in an object, but also loop through the associated indices. This can be done by calling the function ```enumerate()``` as follows:\n",
    "```python\n",
    "names = [\"Randy\", \"Andrew\", \"Ben\", \"Chrisy\", \"Rusty\"]\n",
    "\n",
    "for i, name in enumerate(names):\n",
    "    print(f\"index: {i}, name: {name}\")\n",
    "\n",
    "```\n",
    "\n",
    "\n",
    "\n",
    "---"
   ]
  },
  {
   "cell_type": "code",
   "execution_count": 6,
   "metadata": {},
   "outputs": [
    {
     "name": "stdout",
     "output_type": "stream",
     "text": [
      "index: 0, name: Randy\n",
      "index: 1, name: Andrew\n",
      "index: 2, name: Ben\n",
      "index: 3, name: Chrisy\n",
      "index: 4, name: Rusty\n"
     ]
    }
   ],
   "source": [
    "for i, name in enumerate(names):\n",
    "    print(f\"index: {i}, name: {name}\")"
   ]
  },
  {
   "cell_type": "markdown",
   "metadata": {},
   "source": [
    "---\n",
    "\n",
    "Another common scenerio encountered by data scientist is that of pairing together data from two distinct lists. This can be done by calling the ```zip()``` function as shown in the following code:\n",
    "```python\n",
    "names = [\"Randy\", \"Andrew\", \"Ben\", \"Chrisy\", \"Rusty\"]\n",
    "ages = [34, 35, 35, 32, 39]\n",
    "\n",
    "for name, age in zip(names, ages):\n",
    "    print(f\"Name: {name}, Age: {age}\")\n",
    "\n",
    "```\n",
    "\n",
    "---"
   ]
  },
  {
   "cell_type": "code",
   "execution_count": 7,
   "metadata": {},
   "outputs": [
    {
     "name": "stdout",
     "output_type": "stream",
     "text": [
      "Name: Randy, Age: 34\n",
      "Name: Andrew, Age: 35\n",
      "Name: Ben, Age: 35\n",
      "Name: Chrisy, Age: 32\n",
      "Name: Rusty, Age: 39\n"
     ]
    }
   ],
   "source": [
    "names = [\"Randy\", \"Andrew\", \"Ben\", \"Chrisy\", \"Rusty\"]\n",
    "ages = [34, 35, 35, 32, 39]\n",
    "\n",
    "for name, age in zip(names, ages):\n",
    "    print(f\"Name: {name}, Age: {age}\")"
   ]
  },
  {
   "cell_type": "code",
   "execution_count": 8,
   "metadata": {},
   "outputs": [
    {
     "name": "stdout",
     "output_type": "stream",
     "text": [
      "Help on class zip in module builtins:\n",
      "\n",
      "class zip(object)\n",
      " |  zip(*iterables) --> zip object\n",
      " |  \n",
      " |  Return a zip object whose .__next__() method returns a tuple where\n",
      " |  the i-th element comes from the i-th iterable argument.  The .__next__()\n",
      " |  method continues until the shortest iterable in the argument sequence\n",
      " |  is exhausted and then it raises StopIteration.\n",
      " |  \n",
      " |  Methods defined here:\n",
      " |  \n",
      " |  __getattribute__(self, name, /)\n",
      " |      Return getattr(self, name).\n",
      " |  \n",
      " |  __iter__(self, /)\n",
      " |      Implement iter(self).\n",
      " |  \n",
      " |  __next__(self, /)\n",
      " |      Implement next(self).\n",
      " |  \n",
      " |  __reduce__(...)\n",
      " |      Return state information for pickling.\n",
      " |  \n",
      " |  ----------------------------------------------------------------------\n",
      " |  Static methods defined here:\n",
      " |  \n",
      " |  __new__(*args, **kwargs) from builtins.type\n",
      " |      Create and return a new object.  See help(type) for accurate signature.\n",
      "\n"
     ]
    }
   ],
   "source": [
    "help(zip)"
   ]
  },
  {
   "cell_type": "markdown",
   "metadata": {},
   "source": [
    "---\n",
    "\n",
    "## Part 4.c. Comprehension\n",
    "\n",
    "Comprehension may be the newest concept to a lot of people transitioning to Python from another programming language. That being said, the concept is simple and very similar to *set builder notation* from mathematics. Here are a few examples to run in the cell below:\n",
    "```python\n",
    "# Normal List Creation\n",
    "normal_list = [1, 2, 3, 4, 5, 6, 7, 8, 9, 10]\n",
    "print(f\"normal_list = {normal_list} \\n\")\n",
    "\n",
    "# List Comprehension: Even values in regular list\n",
    "even_list = [x for x in normal_list if x % 2 == 0]\n",
    "print(f\"even_list = {even_list} \\n\")\n",
    "\n",
    "# List Comprehension: Odd values in regular list\n",
    "odd_list = [x for x in normal_list if x % 2 != 0]\n",
    "print(f\"odd_list = {odd_list} \\n\")\n",
    "\n",
    "# Dictionary Comprehension: keys are numbers, values are strings\n",
    "even_or_odd = {x : \"even\" if x % 2 == 0 else \"odd\" for x in normal_list}\n",
    "print(f\"even_or_odd = {even_or_odd} \\n\")\n",
    "\n",
    "\n",
    "```\n",
    "\n",
    "**Note.** The operation ```a % b``` is the remainder when ```b``` divides ```a```.\n",
    "\n",
    "---"
   ]
  },
  {
   "cell_type": "code",
   "execution_count": 9,
   "metadata": {},
   "outputs": [
    {
     "name": "stdout",
     "output_type": "stream",
     "text": [
      "normal_list = [1, 2, 3, 4, 5, 6, 7, 8, 9, 10] \n",
      "\n",
      "even_list = [2, 4, 6, 8, 10] \n",
      "\n",
      "odd_list = [1, 3, 5, 7, 9] \n",
      "\n",
      "even_or_odd = {1: 'odd', 2: 'even', 3: 'odd', 4: 'even', 5: 'odd', 6: 'even', 7: 'odd', 8: 'even', 9: 'odd', 10: 'even'} \n",
      "\n"
     ]
    }
   ],
   "source": [
    "# Normal List Creation\n",
    "normal_list = [1, 2, 3, 4, 5, 6, 7, 8, 9, 10]\n",
    "print(f\"normal_list = {normal_list} \\n\")\n",
    "\n",
    "# List Comprehension: Even values in regular list\n",
    "even_list = [x for x in normal_list if x % 2 == 0]\n",
    "print(f\"even_list = {even_list} \\n\")\n",
    "\n",
    "# List Comprehension: Odd values in regular list\n",
    "odd_list = [x for x in normal_list if x % 2 != 0]\n",
    "print(f\"odd_list = {odd_list} \\n\")\n",
    "\n",
    "# Dictionary Comprehension: keys are numbers, values are strings\n",
    "even_or_odd = {x : \"even\" if x % 2 == 0 else \"odd\" for x in normal_list}\n",
    "print(f\"even_or_odd = {even_or_odd} \\n\")\n",
    "\n"
   ]
  },
  {
   "cell_type": "code",
   "execution_count": null,
   "metadata": {},
   "outputs": [],
   "source": []
  }
 ],
 "metadata": {
  "@webio": {
   "lastCommId": null,
   "lastKernelId": null
  },
  "kernelspec": {
   "display_name": "Python 3",
   "language": "python",
   "name": "python3"
  },
  "language_info": {
   "codemirror_mode": {
    "name": "ipython",
    "version": 3
   },
   "file_extension": ".py",
   "mimetype": "text/x-python",
   "name": "python",
   "nbconvert_exporter": "python",
   "pygments_lexer": "ipython3",
   "version": "3.8.3"
  }
 },
 "nbformat": 4,
 "nbformat_minor": 4
}
